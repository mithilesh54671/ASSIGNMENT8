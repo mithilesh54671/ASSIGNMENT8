{
 "cells": [
  {
   "cell_type": "markdown",
   "id": "ea9af2ab-b620-4e11-9e9b-dab326f1f7b1",
   "metadata": {},
   "source": [
    "Q1. What is an Exception in python? write the difference between Exceptions and syntax error."
   ]
  },
  {
   "cell_type": "code",
   "execution_count": 1,
   "id": "3b44d619-a252-48d0-b006-c06dbd0cff63",
   "metadata": {},
   "outputs": [
    {
     "name": "stdout",
     "output_type": "stream",
     "text": [
      "'key2'\n"
     ]
    }
   ],
   "source": [
    "try:\n",
    "    d = {\"key\" : \"mithi\" , 1 : [2,3,4,5,6]}\n",
    "    print(d[\"key2\"])\n",
    "except KeyError as e:\n",
    "    print(e)"
   ]
  },
  {
   "cell_type": "code",
   "execution_count": 2,
   "id": "38ca986d-e145-4901-9af8-72fe3289ffe4",
   "metadata": {},
   "outputs": [
    {
     "name": "stdout",
     "output_type": "stream",
     "text": [
      "'str' object has no attribute 'test'\n"
     ]
    }
   ],
   "source": [
    "try :\n",
    "    \"mithi\".test()\n",
    "except AttributeError as e:\n",
    "    print(e)"
   ]
  },
  {
   "cell_type": "code",
   "execution_count": 3,
   "id": "0762f01b-8ddd-44a1-9a1b-1d6aa0ce9fc4",
   "metadata": {},
   "outputs": [
    {
     "name": "stdout",
     "output_type": "stream",
     "text": [
      "unsupported operand type(s) for +: 'int' and 'str'\n"
     ]
    }
   ],
   "source": [
    "try:\n",
    "    123 + \"mithi\"\n",
    "except  TypeError as e:\n",
    "    print(e)"
   ]
  },
  {
   "cell_type": "code",
   "execution_count": 4,
   "id": "84ff354e-8c74-4763-8e1f-391df2519459",
   "metadata": {},
   "outputs": [
    {
     "name": "stdout",
     "output_type": "stream",
     "text": [
      "[Errno 2] No such file or directory: 'test.txt'\n"
     ]
    }
   ],
   "source": [
    "try :\n",
    "    with open(\"test.txt\" , 'r')as e:\n",
    "        test = f.read()\n",
    "except FileNotFoundError as e:\n",
    "    print(e)"
   ]
  },
  {
   "cell_type": "markdown",
   "id": "e18cb7a4-9300-4060-8d0a-9f0b4efbe61b",
   "metadata": {},
   "source": [
    "Q2. What happens when an exception is not handled? Explain with an example."
   ]
  },
  {
   "cell_type": "code",
   "execution_count": 5,
   "id": "db1d22e3-d1ae-4aae-b734-c35cd4ebdb9e",
   "metadata": {},
   "outputs": [
    {
     "name": "stdout",
     "output_type": "stream",
     "text": [
      "[Errno 2] No such file or directory: 'test.txt'\n"
     ]
    }
   ],
   "source": [
    "try :\n",
    "    with open(\"test.txt\" ,'r') as f :\n",
    "              test = f.read()\n",
    "except Exception as e:\n",
    "              print(e)\n",
    "except FileNotFoundError as e:\n",
    "              print(\"test\" , e)"
   ]
  },
  {
   "cell_type": "markdown",
   "id": "f35decc7-5fae-429d-bdf9-89a311511fc2",
   "metadata": {},
   "source": [
    "Q3. Which python statement are used to catch and handle exception? Expain "
   ]
  },
  {
   "cell_type": "code",
   "execution_count": 8,
   "id": "48de0621-6809-453d-a4c4-688f79a5e0fc",
   "metadata": {},
   "outputs": [
    {
     "name": "stdout",
     "output_type": "stream",
     "text": [
      "this is my except block [Errno 2] No such file or directory: 'test.txt'\n"
     ]
    },
    {
     "data": {
      "text/plain": [
       "9"
      ]
     },
     "execution_count": 8,
     "metadata": {},
     "output_type": "execute_result"
    }
   ],
   "source": [
    "try :\n",
    "    f = open(\"test.txt\" , 'r')\n",
    "except Exception as e :\n",
    "    print(\"this is my except block\", e)\n",
    "a = 4+5\n",
    "a\n"
   ]
  },
  {
   "cell_type": "code",
   "execution_count": 9,
   "id": "f8cb61e6-29e5-4db7-a1bb-db9e38d4e4fd",
   "metadata": {},
   "outputs": [],
   "source": [
    "try :\n",
    "    f = open(\"test.txt\" , 'w')\n",
    "    f.write(\"write into my file\")\n",
    "    f.close()\n",
    "except Exception as e :\n",
    "    print(\"this is my except block\", e)"
   ]
  },
  {
   "cell_type": "code",
   "execution_count": 10,
   "id": "070275fa-ce22-4fcb-81fe-962db15236eb",
   "metadata": {},
   "outputs": [
    {
     "name": "stdout",
     "output_type": "stream",
     "text": [
      "this will be executed once your try will excute without error\n"
     ]
    }
   ],
   "source": [
    "try :\n",
    "    f = open(\"test.txt\" , 'w')\n",
    "    f.write(\"write into my file\")\n",
    "except Exception as e :\n",
    "    print(\"this is my except block\", e)\n",
    "else :\n",
    "    f.close()\n",
    "    print(\"this will be executed once your try will excute without error\")"
   ]
  },
  {
   "cell_type": "code",
   "execution_count": 11,
   "id": "7b3124ee-2e30-4176-9943-d04a53984f3d",
   "metadata": {},
   "outputs": [
    {
     "name": "stdout",
     "output_type": "stream",
     "text": [
      "this is my except block [Errno 2] No such file or directory: 'test1.txt'\n"
     ]
    }
   ],
   "source": [
    "try :\n",
    "    f = open(\"test1.txt\" , 'r')\n",
    "    f.write(\"write into my file\")\n",
    "except Exception as e :\n",
    "    print(\"this is my except block\", e)\n",
    "else :\n",
    "    f.close()\n",
    "    print(\"this will be executed once your try will excute without error\")"
   ]
  },
  {
   "cell_type": "markdown",
   "id": "abdd92f9-5c21-4798-9d4a-19a0cd5f7ee0",
   "metadata": {},
   "source": [
    "Q4. Explain with an example:\n",
    "a. try and else\n",
    "b. finally\n",
    "c. raise"
   ]
  },
  {
   "cell_type": "code",
   "execution_count": 12,
   "id": "ad36ea96-fde3-438f-a577-dac3e5978faa",
   "metadata": {},
   "outputs": [
    {
     "name": "stdout",
     "output_type": "stream",
     "text": [
      "this is my except block [Errno 2] No such file or directory: 'test1.txt'\n"
     ]
    }
   ],
   "source": [
    "try :\n",
    "    f = open(\"test1.txt\" , 'r')\n",
    "    f.write(\"write into my file\")\n",
    "except Exception as e :\n",
    "    print(\"this is my except block\", e)\n",
    "else :\n",
    "    f.close()\n",
    "    print(\"this will be executed once your try will excute without error\")"
   ]
  },
  {
   "cell_type": "markdown",
   "id": "8864cfcb-15c1-4c5f-9519-679b66f0cc72",
   "metadata": {},
   "source": [
    "Q5. What are custom Exception in python? Why do we need custom Exceptions? Explain with an example."
   ]
  },
  {
   "cell_type": "code",
   "execution_count": 13,
   "id": "8e0b2d06-b8af-4355-810e-454615313763",
   "metadata": {},
   "outputs": [
    {
     "name": "stdout",
     "output_type": "stream",
     "text": [
      "division by zero\n"
     ]
    }
   ],
   "source": [
    "try :\n",
    "    \n",
    "    a = 10/0\n",
    "except ZeroDivisionError as e:\n",
    "    print(e)"
   ]
  },
  {
   "cell_type": "code",
   "execution_count": 14,
   "id": "4650b073-1bd4-4505-b9a0-adfb60a62d59",
   "metadata": {},
   "outputs": [
    {
     "name": "stdout",
     "output_type": "stream",
     "text": [
      "invalid literal for int() with base 10: 'mithi'\n"
     ]
    }
   ],
   "source": [
    "try :\n",
    "    int(\"mithi\")\n",
    "except (ValueError , TypeError)as e :\n",
    "    print(e)"
   ]
  },
  {
   "cell_type": "code",
   "execution_count": 15,
   "id": "7c65ae4a-e53d-4838-ac07-42bf52719265",
   "metadata": {},
   "outputs": [
    {
     "name": "stdout",
     "output_type": "stream",
     "text": [
      "this will catch an error\n"
     ]
    }
   ],
   "source": [
    "try :\n",
    "    int(\"mithi\")\n",
    "except:\n",
    "    print(\"this will catch an error\")"
   ]
  },
  {
   "cell_type": "code",
   "execution_count": 16,
   "id": "073e8f6c-5975-481e-a25f-e493dad972df",
   "metadata": {},
   "outputs": [
    {
     "name": "stdout",
     "output_type": "stream",
     "text": [
      "No module named 'mithi'\n"
     ]
    },
    {
     "data": {
      "text/plain": [
       "2.5"
      ]
     },
     "execution_count": 16,
     "metadata": {},
     "output_type": "execute_result"
    }
   ],
   "source": [
    "try :\n",
    "    import mithi\n",
    "except ImportError as e:\n",
    "    print(e)\n",
    "10/4"
   ]
  },
  {
   "cell_type": "markdown",
   "id": "e0ff2126-c706-4428-b081-b24aa25ad7ad",
   "metadata": {},
   "source": [
    "Q6. Create a custom Exception class. Use this class to handle an exception."
   ]
  },
  {
   "cell_type": "code",
   "execution_count": null,
   "id": "4da1d02a-26a7-4b76-9bb3-f507b8345e05",
   "metadata": {},
   "outputs": [],
   "source": []
  }
 ],
 "metadata": {
  "kernelspec": {
   "display_name": "Python 3 (ipykernel)",
   "language": "python",
   "name": "python3"
  },
  "language_info": {
   "codemirror_mode": {
    "name": "ipython",
    "version": 3
   },
   "file_extension": ".py",
   "mimetype": "text/x-python",
   "name": "python",
   "nbconvert_exporter": "python",
   "pygments_lexer": "ipython3",
   "version": "3.10.8"
  }
 },
 "nbformat": 4,
 "nbformat_minor": 5
}
